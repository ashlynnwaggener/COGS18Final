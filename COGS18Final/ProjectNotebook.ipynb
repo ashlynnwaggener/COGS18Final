{
 "cells": [
  {
   "cell_type": "markdown",
   "metadata": {},
   "source": [
    "# Project Overview\n",
    "\n",
    "My project is a multiple choice style quiz that take user's answers to tell them what type of holiday drink matches their personality. I originally was inspired by the popular website *Buzzfeed* which offers a variety of different quizzes that are similar in purpose. However, I came up with my own questions, answer options, and results. The quiz is in the format of a chatbot, and I used Assignment #3 as original inspiration, but by the end of my project I had come up with my own unique code. \n",
    "\n",
    "The chatbot takes the user's answers and adds them to a list, so that the option with the longest list determines the result (or the holiday drink). It also accounts for possible wrong/invalid answers and accepts multiple variations of the required input in order to avoid an error. I also implemented instructions along the way in order to make the user's experience as simple and easy as possible. \n",
    "\n",
    "Throughout my code there are comments describing the purpose of each function or variable in order to help other programmers to easily follow along, and I also kept each line to 79 characters or less to keep it neat and organized. Also, when creating my project I only used help from the course's notes, lectures, and assignments. Although I did use stackoverflow.com to help understand the process of using pytest and testing my functions. "
   ]
  },
  {
   "cell_type": "markdown",
   "metadata": {},
   "source": [
    "### Project Code\n",
    "\n",
    "Instructions are given when the chatbot is run, so just follow along to find out which holiday drink you are. I hope you enjoy the quiz!"
   ]
  },
  {
   "cell_type": "code",
   "execution_count": 1,
   "metadata": {},
   "outputs": [],
   "source": [
    "from MyModule.functions import *"
   ]
  },
  {
   "cell_type": "code",
   "execution_count": 2,
   "metadata": {},
   "outputs": [
    {
     "name": "stdout",
     "output_type": "stream",
     "text": [
      "Hello! Do you want to take a quiz to see what kind of holiday drink matches your personality? Type 'yes' to continue.\n",
      "Answer: \n",
      "Oops that's an invalid response. Type 'yes' if you want to take the quiz.\n",
      "Answer: \n",
      "Oops that's an invalid response. Type 'yes' if you want to take the quiz.\n",
      "Answer: quit\n",
      "Bye! See you later!\n"
     ]
    }
   ],
   "source": [
    "#\n",
    "holiday_drink_quiz()"
   ]
  },
  {
   "cell_type": "markdown",
   "metadata": {},
   "source": [
    "### Test Functions\n",
    "\n",
    "I created test to check that all of my functions are defined, as well as at least for each to chack that they are running properly and producing the expected output when given a specific input. All of these test are in a seperate module. \n"
   ]
  },
  {
   "cell_type": "markdown",
   "metadata": {},
   "source": [
    "### Conclusion\n",
    "\n",
    "Although this class was my first experience with python and coding, I had a lot of fun with this project. I tried to challenge myself through this process by using the least amount of outside help as possible. I only used the assignments and lecture notes as a reference, but after a lot of trial and error was able to create successful code on my own. I also reworked my code multiple times to try and make it as streamlined and simple as possible. Also, i tried to account for many different user inputs so that the chatbot wouldnt be case-sensitive, and would accept various versions of an expected input. This involved adding variables and functions that I didn't originally need to help make my code easier to follow along and shorter. The most diffcult part of this process was coming up with the initial approach that I would use to make the quiz work the way I wanted to, but I was able to do that, again, through trial and error and testing different strategies. "
   ]
  },
  {
   "cell_type": "code",
   "execution_count": null,
   "metadata": {},
   "outputs": [],
   "source": []
  }
 ],
 "metadata": {
  "kernelspec": {
   "display_name": "Python 3",
   "language": "python",
   "name": "python3"
  },
  "language_info": {
   "codemirror_mode": {
    "name": "ipython",
    "version": 3
   },
   "file_extension": ".py",
   "mimetype": "text/x-python",
   "name": "python",
   "nbconvert_exporter": "python",
   "pygments_lexer": "ipython3",
   "version": "3.7.4"
  }
 },
 "nbformat": 4,
 "nbformat_minor": 2
}
