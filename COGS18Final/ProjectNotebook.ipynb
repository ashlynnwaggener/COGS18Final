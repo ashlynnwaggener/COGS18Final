{
 "cells": [
  {
   "cell_type": "code",
   "execution_count": 3,
   "metadata": {},
   "outputs": [],
   "source": [
    "from MyModule.functions import *"
   ]
  },
  {
   "cell_type": "code",
   "execution_count": null,
   "metadata": {},
   "outputs": [
    {
     "name": "stdout",
     "output_type": "stream",
     "text": [
      "Hello! Do you want to take a quiz to see what kind of holiday drink you are? Type 'yes' to continue.\n",
      "Answer: yes\n",
      "Let's get started. I'm going to ask you some simple questions, and all I need is for you to respond with 'A', 'B', 'C', or 'D'. You can stop the game at any time by typing 'quit'. Or start from the beggining by typing 'restart'. Type 'ready' to continue.\n",
      "Answer: a\n",
      "Type 'ready' to continue on to the quiz.\n",
      "Answer: ready\n",
      "Question 1: What is your favorite part of the holidays? \t \n",
      " A) Spending time with loved ones!\t \n",
      " B) No more school! \t \n",
      " C) Presents! \t \n",
      " D) Wearing ugly sweaters!\n",
      "Answer: a\n",
      "Question 2: When do you start listening to holiday music?\t \n",
      " A) November 1st (Thanksgiving who?) \t \n",
      " B) December 1st \t \n",
      " C) A week before Christmas \t \n",
      " D) Never\n",
      "Answer: a\n",
      "Question 3: What is perfect holiday weather? \t \n",
      " A) Snowy \t \n",
      " B) Rainy \t \n",
      " C) Cold but dry \t \n",
      " D) Sunny\n",
      "Answer: a\n",
      "Question 4: What is your favorite winter activity? \t \n",
      " A) Driving around to look at the Christmas lights \t \n",
      " B) Ice skating \t \n",
      " C) Skiing or snowboarding \t \n",
      " D) Baking holiday treats\n",
      "Answer: a\n",
      "Question 5: What is your favorite holiday dessert? \t\n",
      " A) Gingerbread cookies \t \n",
      " B) Peppermint bark \t \n",
      " C) Assorted chocolates\t \n",
      " D) Fruit cake\n",
      "Answer: a\n",
      "That's the last question! Are you excited to findout what Holiday Drink you are!?\n",
      "Answer: a\n",
      "Oops! Type 'yes' to find out what holiday drink you are!\n",
      "Answer: a\n",
      "Oops! Type 'yes' to find out what holiday drink you are!\n",
      "Answer: yes\n",
      "You got Hot Chocolate! Your sweet personality is always comforting to those around you, and your kindness makes people feel warm inside. Type 'again' to play again! Or 'quit' to end the quiz.\n"
     ]
    }
   ],
   "source": [
    "holiday_drink_quiz()"
   ]
  },
  {
   "cell_type": "code",
   "execution_count": null,
   "metadata": {},
   "outputs": [],
   "source": []
  }
 ],
 "metadata": {
  "kernelspec": {
   "display_name": "Python 3",
   "language": "python",
   "name": "python3"
  },
  "language_info": {
   "codemirror_mode": {
    "name": "ipython",
    "version": 3
   },
   "file_extension": ".py",
   "mimetype": "text/x-python",
   "name": "python",
   "nbconvert_exporter": "python",
   "pygments_lexer": "ipython3",
   "version": "3.7.4"
  }
 },
 "nbformat": 4,
 "nbformat_minor": 2
}
